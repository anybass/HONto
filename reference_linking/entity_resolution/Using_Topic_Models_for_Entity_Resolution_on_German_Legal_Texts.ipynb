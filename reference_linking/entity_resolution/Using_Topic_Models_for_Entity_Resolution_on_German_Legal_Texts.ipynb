{
  "nbformat": 4,
  "nbformat_minor": 0,
  "metadata": {
    "colab": {
      "name": "Using Topic Models for Entity Resolution on German Legal Texts.ipynb",
      "provenance": []
    },
    "kernelspec": {
      "name": "python3",
      "display_name": "Python 3"
    }
  },
  "cells": [
    {
      "cell_type": "markdown",
      "metadata": {
        "id": "0agGyRk3viL8",
        "colab_type": "text"
      },
      "source": [
        "**Using Topic Models for Entity Resolution on German Legal Texts**\n",
        "\n",
        "In this notebook we demonstrate, for reproducibility purposes, the process of supervised entity resolution on German legal text, by using topic models as features. This serves as a backbone of our study, \"[ERST: Leveraging Topic Features for Context-Aware Legal Reference Linking](https://https://jurix2019.oeg-upm.net/)\" \n",
        "\n",
        "After a) a topic model has been created (illustrated in a separate notebook), b) ocurrences of legal references (the input for entity resolution) have been identified over legal text and c) assuming some labeled examples that state all the matches between refrences in the dataset under study; the process is generally structured, as follows:\n",
        "\n",
        "\n",
        "1.  Each reference needs to be partly featurized. This involves: Extracting a window of the surrounding text for a reference, using the topic model to create a representation of the selected text.\n",
        "\n",
        "\n",
        "2.  Training pairs of entites (matches and non-matches) have to be identified. In our study we use 66% of the existing matches for training and the remainder for testing. In addition, we complement the training data with a randomly selected number of pairs (non-matching), such that the training and test data receive a similar number of examples from both classes. More advanced solutions for selecting the non-match pairs could be adopted, but are not part of the current study.\n",
        "\n",
        "3. The pairs of entities need to be featurized. \n",
        "\n",
        "4. Finally the classifier models can be trained and their results can be evaluated."
      ]
    }
  ]
}